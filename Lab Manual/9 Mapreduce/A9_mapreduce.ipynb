{
 "cells": [
  {
   "cell_type": "code",
   "execution_count": 1,
   "metadata": {},
   "outputs": [],
   "source": [
    "import csv\n",
    "from functools import reduce\n",
    "from collections import defaultdict"
   ]
  },
  {
   "cell_type": "code",
   "execution_count": 2,
   "metadata": {},
   "outputs": [],
   "source": [
    "# Define mapper function to emit (year, temperature) pairs\n",
    "def mapper(row):\n",
    "    year = row[\"Date/Time\"].split(\"-\")[0]  # Extract year from \"Date/Time\" column\n",
    "    temperature = float(row[\"Temp_C\"])  # Convert temperature to float\n",
    "    return (year, temperature)"
   ]
  },
  {
   "cell_type": "code",
   "execution_count": 3,
   "metadata": {},
   "outputs": [],
   "source": [
    "# Define reducer function to calculate sum and count of temperatures for each year\n",
    "def reducer(accumulated, current):\n",
    "    accumulated[current[0]][0] += current[1]\n",
    "    accumulated[current[0]][1] += 1\n",
    "    return accumulated"
   ]
  },
  {
   "cell_type": "code",
   "execution_count": 4,
   "metadata": {},
   "outputs": [],
   "source": [
    "# Read the weather dataset\n",
    "weather_data = []\n",
    "with open(\"weather_data.csv\", \"r\") as file:\n",
    "    reader = csv.DictReader(file)\n",
    "    for row in reader:\n",
    "        weather_data.append(row)"
   ]
  },
  {
   "cell_type": "code",
   "execution_count": 5,
   "metadata": {},
   "outputs": [],
   "source": [
    "# Map phase\n",
    "mapped_data = map(mapper, weather_data)"
   ]
  },
  {
   "cell_type": "code",
   "execution_count": 6,
   "metadata": {},
   "outputs": [],
   "source": [
    "# Reduce phase\n",
    "reduced_data = reduce(reducer, mapped_data, defaultdict(lambda: [0, 0]))"
   ]
  },
  {
   "cell_type": "code",
   "execution_count": 7,
   "metadata": {},
   "outputs": [],
   "source": [
    "# Calculate average temperature for each year\n",
    "avg_temp_per_year = {year: total_temp / count for year, (total_temp, count) in reduced_data.items()}"
   ]
  },
  {
   "cell_type": "code",
   "execution_count": 8,
   "metadata": {},
   "outputs": [
    {
     "name": "stdout",
     "output_type": "stream",
     "text": [
      "Coolest Year: 1/15/2012 8:00 Average Temperature: -23.3\n",
      "Hottest Year: 6/21/2012 15:00 Average Temperature: 33.0\n"
     ]
    }
   ],
   "source": [
    "# Find coolest and hottest year\n",
    "coolest_year = min(avg_temp_per_year.items(), key=lambda x: x[1])\n",
    "hottest_year = max(avg_temp_per_year.items(), key=lambda x: x[1])\n",
    "\n",
    "print(\"Coolest Year:\", coolest_year[0], \"Average Temperature:\", coolest_year[1])\n",
    "print(\"Hottest Year:\", hottest_year[0], \"Average Temperature:\", hottest_year[1])"
   ]
  },
  {
   "cell_type": "code",
   "execution_count": null,
   "metadata": {},
   "outputs": [],
   "source": []
  }
 ],
 "metadata": {
  "kernelspec": {
   "display_name": ".venv",
   "language": "python",
   "name": "python3"
  },
  "language_info": {
   "codemirror_mode": {
    "name": "ipython",
    "version": 3
   },
   "file_extension": ".py",
   "mimetype": "text/x-python",
   "name": "python",
   "nbconvert_exporter": "python",
   "pygments_lexer": "ipython3",
   "version": "3.11.5"
  }
 },
 "nbformat": 4,
 "nbformat_minor": 2
}
